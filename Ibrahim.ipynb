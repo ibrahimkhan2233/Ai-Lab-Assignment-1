{
  "nbformat": 4,
  "nbformat_minor": 0,
  "metadata": {
    "colab": {
      "provenance": []
    },
    "kernelspec": {
      "name": "python3",
      "display_name": "Python 3"
    },
    "language_info": {
      "name": "python"
    }
  },
  "cells": [
    {
      "cell_type": "code",
      "execution_count": 1,
      "metadata": {
        "colab": {
          "base_uri": "https://localhost:8080/"
        },
        "id": "VWnXqynEP7L8",
        "outputId": "a8676550-a532-42dc-9a3f-51fae947ea67"
      },
      "outputs": [
        {
          "output_type": "stream",
          "name": "stdout",
          "text": [
            "The shortest path from Islamabad to Karachi is:\n",
            "Islamabad → Rawalpindi → Quetta → Karachi\n"
          ]
        }
      ],
      "source": [
        "from collections import deque\n",
        "\n",
        "# Define the graph (cities and their connections)\n",
        "graph = {\n",
        "    'Islamabad': ['Rawalpindi', 'Lahore', 'Peshawar'],\n",
        "    'Rawalpindi': ['Islamabad', 'Peshawar', 'Quetta'],\n",
        "    'Peshawar': ['Islamabad', 'Rawalpindi', 'Quetta'],\n",
        "    'Lahore': ['Islamabad', 'Multan', 'Quetta'],\n",
        "    'Multan': ['Lahore', 'Karachi', 'Quetta'],\n",
        "    'Quetta': ['Rawalpindi', 'Peshawar', 'Multan', 'Karachi'],\n",
        "    'Karachi': ['Multan', 'Quetta']\n",
        "}\n",
        "\n",
        "# BFS function to find the shortest path\n",
        "def bfs_shortest_path(start, goal):\n",
        "    # Keep track of explored nodes\n",
        "    explored = set()\n",
        "\n",
        "    # Queue to maintain the paths\n",
        "    queue = deque([[start]])\n",
        "\n",
        "    # If the start is the goal\n",
        "    if start == goal:\n",
        "        return [start]\n",
        "\n",
        "    # Loop until there are no more nodes to explore\n",
        "    while queue:\n",
        "        path = queue.popleft()\n",
        "        node = path[-1]\n",
        "\n",
        "        # If the node hasn't been explored yet\n",
        "        if node not in explored:\n",
        "            neighbors = graph[node]\n",
        "\n",
        "            # Go through all neighbors\n",
        "            for neighbor in neighbors:\n",
        "                new_path = list(path)\n",
        "                new_path.append(neighbor)\n",
        "                queue.append(new_path)\n",
        "\n",
        "                # Return path if the goal is found\n",
        "                if neighbor == goal:\n",
        "                    return new_path\n",
        "\n",
        "            # Mark the node as explored\n",
        "            explored.add(node)\n",
        "\n",
        "    # Return None if no path is found\n",
        "    return None\n",
        "\n",
        "# Find the shortest path from Islamabad to Karachi\n",
        "if __name__ == \"__main__\":\n",
        "    start_city = 'Islamabad'\n",
        "    destination_city = 'Karachi'\n",
        "\n",
        "    shortest_path = bfs_shortest_path(start_city, destination_city)\n",
        "\n",
        "    if shortest_path:\n",
        "        print(f\"The shortest path from {start_city} to {destination_city} is:\")\n",
        "        print(\" → \".join(shortest_path))\n",
        "    else:\n",
        "        print(f\"No path found from {start_city} to {destination_city}.\")\n"
      ]
    }
  ]
}